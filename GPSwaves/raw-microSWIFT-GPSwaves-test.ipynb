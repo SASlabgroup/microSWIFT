{
 "cells": [
  {
   "cell_type": "markdown",
   "metadata": {
    "ExecuteTime": {
     "end_time": "2021-06-13T02:57:16.422567Z",
     "start_time": "2021-06-13T02:57:16.418972Z"
    }
   },
   "source": [
    "<h1>Test Raw microSWIFT Data</h1>"
   ]
  },
  {
   "cell_type": "code",
   "execution_count": 19,
   "metadata": {
    "ExecuteTime": {
     "end_time": "2021-06-13T19:22:47.275530Z",
     "start_time": "2021-06-13T19:22:46.382322Z"
    }
   },
   "outputs": [],
   "source": [
    "import numpy as np\n",
    "import matplotlib.pyplot as plt\n",
    "import scipy.signal as signal\n",
    "%matplotlib widget"
   ]
  },
  {
   "cell_type": "code",
   "execution_count": 31,
   "metadata": {
    "ExecuteTime": {
     "end_time": "2021-06-13T19:28:12.942551Z",
     "start_time": "2021-06-13T19:28:12.363054Z"
    }
   },
   "outputs": [
    {
     "data": {
      "application/vnd.jupyter.widget-view+json": {
       "model_id": "85e3334f9e3d46349b2055f58a99de4a",
       "version_major": 2,
       "version_minor": 0
      },
      "text/plain": [
       "Canvas(toolbar=Toolbar(toolitems=[('Home', 'Reset original view', 'home', 'home'), ('Back', 'Back to previous …"
      ]
     },
     "metadata": {},
     "output_type": "display_data"
    },
    {
     "name": "stdout",
     "output_type": "stream",
     "text": [
      "Data is Sufficient for Processing - Processing Start\n",
      "Hs =  0.43865421161951723\n",
      "Tp =  0.9606003752345216\n",
      "Dp =  109.93751198089342\n",
      "E =  [0.         0.         0.         0.         0.15429993 0.16473859\n",
      " 0.09006397 0.09969028 0.07176232 0.05915993 0.05293139 0.03281219\n",
      " 0.03517493 0.02355732 0.01228213 0.01857559 0.01525127 0.01555018\n",
      " 0.01763138 0.00611549 0.01404244 0.00889524 0.00923882 0.00644491\n",
      " 0.00739838 0.00483962 0.00549855 0.00427093 0.00433275 0.00697555\n",
      " 0.00484467 0.00325444 0.00415334 0.00368913 0.00415711 0.00406561\n",
      " 0.004061   0.00360177 0.00311536 0.00227303 0.00319645 0.00154112]\n"
     ]
    }
   ],
   "source": [
    "# Read in the raw test data\n",
    "u = np.loadtxt('./rawu.txt')\n",
    "v = np.loadtxt('./rawv.txt')\n",
    "z = np.loadtxt('./rawz.txt')\n",
    "\n",
    "# Reshape the input arrays to a 1-d array\n",
    "u = np.squeeze(u.reshape(1, u.shape[0]*u.shape[1]))\n",
    "v = np.squeeze(v.reshape(1, v.shape[0]*v.shape[1]))\n",
    "z = z.reshape(1, z.shape[0]*z.shape[1])\n",
    "# add in last values to z due to copy and pasting format\n",
    "z = np.append(z,  [2.4, 2.4, 2.4, 2.4, 2.4, 2.4])\n",
    "z = np.squeeze(z.reshape(1,2400))\n",
    "\n",
    "# Define fs\n",
    "fs = 4\n",
    "\n",
    "# Compute Basic Spectrum of raw u and v\n",
    "f_u, Uxx = signal.welch(u, fs=fs, window='hann', nperseg=256, scaling='density')\n",
    "f_v, Vxx = signal.welch(v, fs=fs, window='hann', nperseg=256, scaling='density')\n",
    "\n",
    "# Plot the u, v and z\n",
    "fig_vel, (ax1, ax2, ax3) = plt.subplots(1, 3)\n",
    "ax1.plot(u)\n",
    "ax1.plot(v)\n",
    "ax1.set_xlabel('points')\n",
    "ax1.set_ylabel('Velocity')\n",
    "# Histogram of u and v\n",
    "num_bins = 50\n",
    "ax2.hist(u, bins=num_bins, label='u')\n",
    "ax2.hist(v, bins=num_bins,label='v')\n",
    "ax2.legend()\n",
    "# Plot Spectrum of raw u and v values\n",
    "ax3.loglog(f_u, Uxx, label='u')\n",
    "ax3.loglog(f_v, Vxx, label='v')\n",
    "ax3.set_xlabel('Frequency')\n",
    "ax3.set_ylabel('Energy Density')\n",
    "\n",
    "# Run the GPS waves function \n",
    "from GPSwaves import GPSwaves\n",
    "Hs, Tp, Dp, E, f, a1, b1, a2, b2 = GPSwaves(u, v, z, fs)\n",
    "print('Hs = ', Hs)\n",
    "print('Tp = ', Tp)\n",
    "print('Dp = ', Dp)\n",
    "print('E = ', E)\n",
    "\n",
    "    "
   ]
  },
  {
   "cell_type": "code",
   "execution_count": 8,
   "metadata": {
    "ExecuteTime": {
     "end_time": "2021-06-13T03:41:25.329163Z",
     "start_time": "2021-06-13T03:41:25.270850Z"
    }
   },
   "outputs": [
    {
     "data": {
      "application/vnd.jupyter.widget-view+json": {
       "model_id": "8f9f22f6895b4d7ab8f28ed079a631c8",
       "version_major": 2,
       "version_minor": 0
      },
      "text/plain": [
       "Canvas(toolbar=Toolbar(toolitems=[('Home', 'Reset original view', 'home', 'home'), ('Back', 'Back to previous …"
      ]
     },
     "metadata": {},
     "output_type": "display_data"
    },
    {
     "data": {
      "text/plain": [
       "Text(0, 0.5, 'Energy')"
      ]
     },
     "execution_count": 8,
     "metadata": {},
     "output_type": "execute_result"
    }
   ],
   "source": [
    "# Plot output from GPSwaves\n",
    "fig_spec, ax = plt.subplots()\n",
    "ax.loglog(f,E)\n",
    "ax.set_xlabel('Frequency')\n",
    "ax.set_ylabel('Energy')"
   ]
  },
  {
   "cell_type": "code",
   "execution_count": 26,
   "metadata": {
    "ExecuteTime": {
     "end_time": "2021-06-13T19:25:06.774054Z",
     "start_time": "2021-06-13T19:25:06.767666Z"
    }
   },
   "outputs": [],
   "source": [
    "signal.welch?"
   ]
  },
  {
   "cell_type": "code",
   "execution_count": 30,
   "metadata": {
    "ExecuteTime": {
     "end_time": "2021-06-13T19:26:45.275373Z",
     "start_time": "2021-06-13T19:26:45.271334Z"
    }
   },
   "outputs": [
    {
     "data": {
      "text/plain": [
       "(129,)"
      ]
     },
     "execution_count": 30,
     "metadata": {},
     "output_type": "execute_result"
    }
   ],
   "source": []
  },
  {
   "cell_type": "code",
   "execution_count": null,
   "metadata": {},
   "outputs": [],
   "source": []
  }
 ],
 "metadata": {
  "kernelspec": {
   "display_name": "Python 3",
   "language": "python",
   "name": "python3"
  },
  "language_info": {
   "codemirror_mode": {
    "name": "ipython",
    "version": 3
   },
   "file_extension": ".py",
   "mimetype": "text/x-python",
   "name": "python",
   "nbconvert_exporter": "python",
   "pygments_lexer": "ipython3",
   "version": "3.8.5"
  },
  "varInspector": {
   "cols": {
    "lenName": 16,
    "lenType": 16,
    "lenVar": 40
   },
   "kernels_config": {
    "python": {
     "delete_cmd_postfix": "",
     "delete_cmd_prefix": "del ",
     "library": "var_list.py",
     "varRefreshCmd": "print(var_dic_list())"
    },
    "r": {
     "delete_cmd_postfix": ") ",
     "delete_cmd_prefix": "rm(",
     "library": "var_list.r",
     "varRefreshCmd": "cat(var_dic_list()) "
    }
   },
   "types_to_exclude": [
    "module",
    "function",
    "builtin_function_or_method",
    "instance",
    "_Feature"
   ],
   "window_display": false
  }
 },
 "nbformat": 4,
 "nbformat_minor": 4
}
